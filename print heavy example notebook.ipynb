{
 "cells": [
  {
   "cell_type": "code",
   "execution_count": 29,
   "metadata": {},
   "outputs": [
    {
     "name": "stdout",
     "output_type": "stream",
     "text": [
      "Player 1 wins: 75\n",
      "Player 0 wins: 25\n"
     ]
    }
   ],
   "source": [
    "from deck import *\n",
    "from game import *\n",
    "from player import *\n",
    "\n",
    "\n",
    "\n",
    "player_0_wins = 0\n",
    "player_1_wins = 0\n",
    "\n",
    "for i in range(100):\n",
    "    player_gold = Player(get_8ed_core_gold_deck())\n",
    "    player_silver = Player(get_8ed_core_silver_deck())\n",
    "    all_players = [player_gold, player_silver]\n",
    "\n",
    "    game = Game(all_players)\n",
    "\n",
    "    while not game.is_over():\n",
    "        legal_moves = game.get_moves()\n",
    "        move = random.choice(legal_moves)\n",
    "        game.make_move(move)\n",
    "    \n",
    "    if game.players[1].has_lost:\n",
    "        player_0_wins += 1\n",
    "    elif game.players[0].has_lost:\n",
    "        player_1_wins += 1\n",
    "    \n",
    "print(\"Player 1 wins:\", player_1_wins)\n",
    "print(\"Player 0 wins:\", player_0_wins)"
   ]
  },
  {
   "cell_type": "code",
   "execution_count": null,
   "metadata": {
    "collapsed": true
   },
   "outputs": [],
   "source": []
  }
 ],
 "metadata": {
  "kernelspec": {
   "display_name": "Python 3",
   "language": "python",
   "name": "python3"
  },
  "language_info": {
   "codemirror_mode": {
    "name": "ipython",
    "version": 3
   },
   "file_extension": ".py",
   "mimetype": "text/x-python",
   "name": "python",
   "nbconvert_exporter": "python",
   "pygments_lexer": "ipython3",
   "version": "3.9.4"
  }
 },
 "nbformat": 4,
 "nbformat_minor": 1
}
